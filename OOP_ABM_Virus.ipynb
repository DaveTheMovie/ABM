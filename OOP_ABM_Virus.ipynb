{
 "cells": [
  {
   "cell_type": "code",
   "execution_count": 151,
   "metadata": {},
   "outputs": [],
   "source": [
    "import numpy as np\n"
   ]
  },
  {
   "cell_type": "code",
   "execution_count": 152,
   "metadata": {},
   "outputs": [],
   "source": [
    "class person:\n",
    "    def __init__(self):\n",
    "        U = np.random.uniform()\n",
    "        if U < .25:\n",
    "            xstr = 'sick'\n",
    "        else:\n",
    "            xstr = 'healthy'\n",
    "        self.status = xstr\n",
    "        self.loc = [1,2]\n",
    "    def NextLoc(self):\n",
    "        self.loc[0] += int(round(np.random.uniform()*2,0)-1)\n",
    "        self.loc[1] += int(round(np.random.uniform()*2,0)-1)"
   ]
  },
  {
   "cell_type": "code",
   "execution_count": 153,
   "metadata": {},
   "outputs": [],
   "source": [
    "a = person()\n",
    "b = person()"
   ]
  },
  {
   "cell_type": "code",
   "execution_count": 154,
   "metadata": {},
   "outputs": [
    {
     "name": "stdout",
     "output_type": "stream",
     "text": [
      "[2, 2]\n",
      "[2, 2]\n",
      "[3, 2]\n",
      "[3, 1]\n",
      "[3, 0]\n"
     ]
    }
   ],
   "source": [
    "for i in range(5):\n",
    "    a.NextLoc()\n",
    "    print(a.loc)"
   ]
  },
  {
   "cell_type": "code",
   "execution_count": 155,
   "metadata": {},
   "outputs": [],
   "source": [
    "persons = []\n",
    "n = 10\n",
    "for i in range(n):\n",
    "    persons.append(person())"
   ]
  },
  {
   "cell_type": "code",
   "execution_count": 156,
   "metadata": {},
   "outputs": [
    {
     "name": "stdout",
     "output_type": "stream",
     "text": [
      "[1, 3] healthy\n",
      "[0, 2] healthy\n",
      "[1, 2] sick\n",
      "[1, 3] sick\n",
      "[0, 2] healthy\n",
      "[1, 3] healthy\n",
      "[0, 2] healthy\n",
      "[1, 2] healthy\n",
      "[1, 2] healthy\n",
      "[2, 2] healthy\n"
     ]
    }
   ],
   "source": [
    "for person in persons:\n",
    "    person.NextLoc()\n",
    "    print(person.loc,person.status)"
   ]
  },
  {
   "cell_type": "code",
   "execution_count": 159,
   "metadata": {},
   "outputs": [],
   "source": [
    "\n",
    "def A2B(A,B):\n",
    "  spreadThreashold = .5\n",
    "  secondSpreadThreashold = .05\n",
    "  if (A.status == 'sick') & (B.status != 'healthy'):\n",
    "    if np.random.uniform() < spreadThreashold:\n",
    "      B.status = 'sick'\n",
    "  if (A.status == 'sick') & (B.status != 'recovered'):\n",
    "    if np.random.uniform() > secondSpreadThreashold:\n",
    "      B.status = 'sick'\n",
    "  if (A.status == 'sick') & (B.status != 'healthy'):\n",
    "    if np.random.uniform() < spreadThreashold:\n",
    "      B.status = 'sick'\n",
    "  if (A.status == 'sick') & (B.status != 'recovered'):\n",
    "    if np.random.uniform() > secondSpreadThreashold:\n",
    "      B.status = 'sick'\n",
    "      \n",
    "def Interact(A,B):\n",
    "  A2B(A,B)\n",
    "  A2B(B,A)\n",
    "  "
   ]
  },
  {
   "cell_type": "code",
   "execution_count": 160,
   "metadata": {},
   "outputs": [
    {
     "name": "stdout",
     "output_type": "stream",
     "text": [
      "hi\n",
      "hi\n",
      "hi\n",
      "hi\n",
      "hi\n",
      "hi\n",
      "hi\n",
      "hi\n",
      "hi\n"
     ]
    }
   ],
   "source": [
    "for i in range(n):\n",
    "    for j in range(i+1,n):\n",
    "        if persons[i].loc == persons[j].loc:\n",
    "            Interact(persons[i],persons[j])\n",
    "            print('hi')\n",
    "            "
   ]
  },
  {
   "cell_type": "code",
   "execution_count": 161,
   "metadata": {},
   "outputs": [
    {
     "name": "stdout",
     "output_type": "stream",
     "text": [
      "sick\n",
      "healthy\n",
      "sick\n",
      "sick\n",
      "healthy\n",
      "sick\n",
      "healthy\n",
      "sick\n",
      "sick\n",
      "healthy\n"
     ]
    }
   ],
   "source": [
    "for person in persons:\n",
    "    print(person.status)"
   ]
  },
  {
   "cell_type": "code",
   "execution_count": null,
   "metadata": {},
   "outputs": [],
   "source": []
  }
 ],
 "metadata": {
  "kernelspec": {
   "display_name": "Python 3",
   "language": "python",
   "name": "python3"
  },
  "language_info": {
   "codemirror_mode": {
    "name": "ipython",
    "version": 3
   },
   "file_extension": ".py",
   "mimetype": "text/x-python",
   "name": "python",
   "nbconvert_exporter": "python",
   "pygments_lexer": "ipython3",
   "version": "3.7.4"
  }
 },
 "nbformat": 4,
 "nbformat_minor": 2
}
